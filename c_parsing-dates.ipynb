{
 "cells": [
  {
   "cell_type": "markdown",
   "id": "da625e86",
   "metadata": {
    "papermill": {
     "duration": 0.006143,
     "end_time": "2023-04-20T18:08:48.601873",
     "exception": false,
     "start_time": "2023-04-20T18:08:48.595730",
     "status": "completed"
    },
    "tags": []
   },
   "source": [
    "In this notebook, we're going to work with dates.\n",
    "\n",
    "Let's get started!"
   ]
  },
  {
   "cell_type": "markdown",
   "id": "fabad81c",
   "metadata": {
    "papermill": {
     "duration": 0.004559,
     "end_time": "2023-04-20T18:08:48.611531",
     "exception": false,
     "start_time": "2023-04-20T18:08:48.606972",
     "status": "completed"
    },
    "tags": []
   },
   "source": [
    "# Get our environment set up\n",
    "\n",
    "The first thing we'll need to do is load in the libraries and dataset we'll be using. We'll be working with a dataset that contains information on landslides that occured between 2007 and 2016.  In the [**following exercise**](https://www.kaggle.com/kernels/fork/10824403), you'll apply your new skills to a dataset of worldwide earthquakes."
   ]
  },
  {
   "cell_type": "code",
   "execution_count": 2,
   "id": "335225dd",
   "metadata": {
    "execution": {
     "iopub.execute_input": "2023-04-20T18:08:48.622857Z",
     "iopub.status.busy": "2023-04-20T18:08:48.622442Z",
     "iopub.status.idle": "2023-04-20T18:08:49.894978Z",
     "shell.execute_reply": "2023-04-20T18:08:49.893941Z"
    },
    "papermill": {
     "duration": 1.28145,
     "end_time": "2023-04-20T18:08:49.897716",
     "exception": false,
     "start_time": "2023-04-20T18:08:48.616266",
     "status": "completed"
    },
    "tags": []
   },
   "outputs": [],
   "source": [
    "# modules we'll use\n",
    "import pandas as pd\n",
    "import numpy as np\n",
    "import seaborn as sns\n",
    "import datetime\n",
    "\n",
    "# read in our data\n",
    "landslides = pd.read_csv(\"Data_Source\\catalog.csv\")\n",
    "\n",
    "# set seed for reproducibility\n",
    "np.random.seed(0)"
   ]
  },
  {
   "cell_type": "markdown",
   "id": "e35c0645",
   "metadata": {
    "papermill": {
     "duration": 0.004603,
     "end_time": "2023-04-20T18:08:49.907300",
     "exception": false,
     "start_time": "2023-04-20T18:08:49.902697",
     "status": "completed"
    },
    "tags": []
   },
   "source": [
    "Now we're ready to look at some dates!"
   ]
  },
  {
   "cell_type": "markdown",
   "id": "4c0fd2f3",
   "metadata": {
    "papermill": {
     "duration": 0.004653,
     "end_time": "2023-04-20T18:08:49.916791",
     "exception": false,
     "start_time": "2023-04-20T18:08:49.912138",
     "status": "completed"
    },
    "tags": []
   },
   "source": [
    "# Check the data type of our date column\n",
    "\n",
    "We begin by taking a look at the first five rows of the data."
   ]
  },
  {
   "cell_type": "code",
   "execution_count": 3,
   "id": "40f7908c",
   "metadata": {
    "execution": {
     "iopub.execute_input": "2023-04-20T18:08:49.928804Z",
     "iopub.status.busy": "2023-04-20T18:08:49.927820Z",
     "iopub.status.idle": "2023-04-20T18:08:49.975389Z",
     "shell.execute_reply": "2023-04-20T18:08:49.973989Z"
    },
    "papermill": {
     "duration": 0.056987,
     "end_time": "2023-04-20T18:08:49.978611",
     "exception": false,
     "start_time": "2023-04-20T18:08:49.921624",
     "status": "completed"
    },
    "tags": []
   },
   "outputs": [
    {
     "data": {
      "text/html": [
       "<div>\n",
       "<style scoped>\n",
       "    .dataframe tbody tr th:only-of-type {\n",
       "        vertical-align: middle;\n",
       "    }\n",
       "\n",
       "    .dataframe tbody tr th {\n",
       "        vertical-align: top;\n",
       "    }\n",
       "\n",
       "    .dataframe thead th {\n",
       "        text-align: right;\n",
       "    }\n",
       "</style>\n",
       "<table border=\"1\" class=\"dataframe\">\n",
       "  <thead>\n",
       "    <tr style=\"text-align: right;\">\n",
       "      <th></th>\n",
       "      <th>id</th>\n",
       "      <th>date</th>\n",
       "      <th>time</th>\n",
       "      <th>continent_code</th>\n",
       "      <th>country_name</th>\n",
       "      <th>country_code</th>\n",
       "      <th>state/province</th>\n",
       "      <th>population</th>\n",
       "      <th>city/town</th>\n",
       "      <th>distance</th>\n",
       "      <th>...</th>\n",
       "      <th>geolocation</th>\n",
       "      <th>hazard_type</th>\n",
       "      <th>landslide_type</th>\n",
       "      <th>landslide_size</th>\n",
       "      <th>trigger</th>\n",
       "      <th>storm_name</th>\n",
       "      <th>injuries</th>\n",
       "      <th>fatalities</th>\n",
       "      <th>source_name</th>\n",
       "      <th>source_link</th>\n",
       "    </tr>\n",
       "  </thead>\n",
       "  <tbody>\n",
       "    <tr>\n",
       "      <th>0</th>\n",
       "      <td>34</td>\n",
       "      <td>3/2/07</td>\n",
       "      <td>Night</td>\n",
       "      <td>NaN</td>\n",
       "      <td>United States</td>\n",
       "      <td>US</td>\n",
       "      <td>Virginia</td>\n",
       "      <td>16000</td>\n",
       "      <td>Cherry Hill</td>\n",
       "      <td>3.40765</td>\n",
       "      <td>...</td>\n",
       "      <td>(38.600900000000003, -77.268199999999993)</td>\n",
       "      <td>Landslide</td>\n",
       "      <td>Landslide</td>\n",
       "      <td>Small</td>\n",
       "      <td>Rain</td>\n",
       "      <td>NaN</td>\n",
       "      <td>NaN</td>\n",
       "      <td>NaN</td>\n",
       "      <td>NBC 4 news</td>\n",
       "      <td>http://www.nbc4.com/news/11186871/detail.html</td>\n",
       "    </tr>\n",
       "    <tr>\n",
       "      <th>1</th>\n",
       "      <td>42</td>\n",
       "      <td>3/22/07</td>\n",
       "      <td>NaN</td>\n",
       "      <td>NaN</td>\n",
       "      <td>United States</td>\n",
       "      <td>US</td>\n",
       "      <td>Ohio</td>\n",
       "      <td>17288</td>\n",
       "      <td>New Philadelphia</td>\n",
       "      <td>3.33522</td>\n",
       "      <td>...</td>\n",
       "      <td>(40.517499999999998, -81.430499999999995)</td>\n",
       "      <td>Landslide</td>\n",
       "      <td>Landslide</td>\n",
       "      <td>Small</td>\n",
       "      <td>Rain</td>\n",
       "      <td>NaN</td>\n",
       "      <td>NaN</td>\n",
       "      <td>NaN</td>\n",
       "      <td>Canton Rep.com</td>\n",
       "      <td>http://www.cantonrep.com/index.php?ID=345054&amp;C...</td>\n",
       "    </tr>\n",
       "    <tr>\n",
       "      <th>2</th>\n",
       "      <td>56</td>\n",
       "      <td>4/6/07</td>\n",
       "      <td>NaN</td>\n",
       "      <td>NaN</td>\n",
       "      <td>United States</td>\n",
       "      <td>US</td>\n",
       "      <td>Pennsylvania</td>\n",
       "      <td>15930</td>\n",
       "      <td>Wilkinsburg</td>\n",
       "      <td>2.91977</td>\n",
       "      <td>...</td>\n",
       "      <td>(40.4377, -79.915999999999997)</td>\n",
       "      <td>Landslide</td>\n",
       "      <td>Landslide</td>\n",
       "      <td>Small</td>\n",
       "      <td>Rain</td>\n",
       "      <td>NaN</td>\n",
       "      <td>NaN</td>\n",
       "      <td>NaN</td>\n",
       "      <td>The Pittsburgh Channel.com</td>\n",
       "      <td>https://web.archive.org/web/20080423132842/htt...</td>\n",
       "    </tr>\n",
       "    <tr>\n",
       "      <th>3</th>\n",
       "      <td>59</td>\n",
       "      <td>4/14/07</td>\n",
       "      <td>NaN</td>\n",
       "      <td>NaN</td>\n",
       "      <td>Canada</td>\n",
       "      <td>CA</td>\n",
       "      <td>Quebec</td>\n",
       "      <td>42786</td>\n",
       "      <td>Châteauguay</td>\n",
       "      <td>2.98682</td>\n",
       "      <td>...</td>\n",
       "      <td>(45.322600000000001, -73.777100000000004)</td>\n",
       "      <td>Landslide</td>\n",
       "      <td>Riverbank collapse</td>\n",
       "      <td>Small</td>\n",
       "      <td>Rain</td>\n",
       "      <td>NaN</td>\n",
       "      <td>NaN</td>\n",
       "      <td>NaN</td>\n",
       "      <td>Le Soleil</td>\n",
       "      <td>http://www.hebdos.net/lsc/edition162007/articl...</td>\n",
       "    </tr>\n",
       "    <tr>\n",
       "      <th>4</th>\n",
       "      <td>61</td>\n",
       "      <td>4/15/07</td>\n",
       "      <td>NaN</td>\n",
       "      <td>NaN</td>\n",
       "      <td>United States</td>\n",
       "      <td>US</td>\n",
       "      <td>Kentucky</td>\n",
       "      <td>6903</td>\n",
       "      <td>Pikeville</td>\n",
       "      <td>5.66542</td>\n",
       "      <td>...</td>\n",
       "      <td>(37.432499999999997, -82.493099999999998)</td>\n",
       "      <td>Landslide</td>\n",
       "      <td>Landslide</td>\n",
       "      <td>Small</td>\n",
       "      <td>Downpour</td>\n",
       "      <td>NaN</td>\n",
       "      <td>NaN</td>\n",
       "      <td>0.0</td>\n",
       "      <td>Matthew Crawford (KGS)</td>\n",
       "      <td>NaN</td>\n",
       "    </tr>\n",
       "  </tbody>\n",
       "</table>\n",
       "<p>5 rows × 23 columns</p>\n",
       "</div>"
      ],
      "text/plain": [
       "   id     date   time continent_code   country_name country_code  \\\n",
       "0  34   3/2/07  Night            NaN  United States           US   \n",
       "1  42  3/22/07    NaN            NaN  United States           US   \n",
       "2  56   4/6/07    NaN            NaN  United States           US   \n",
       "3  59  4/14/07    NaN            NaN         Canada           CA   \n",
       "4  61  4/15/07    NaN            NaN  United States           US   \n",
       "\n",
       "  state/province  population         city/town  distance  ...  \\\n",
       "0       Virginia       16000       Cherry Hill   3.40765  ...   \n",
       "1           Ohio       17288  New Philadelphia   3.33522  ...   \n",
       "2   Pennsylvania       15930       Wilkinsburg   2.91977  ...   \n",
       "3         Quebec       42786       Châteauguay   2.98682  ...   \n",
       "4       Kentucky        6903         Pikeville   5.66542  ...   \n",
       "\n",
       "                                 geolocation  hazard_type      landslide_type  \\\n",
       "0  (38.600900000000003, -77.268199999999993)    Landslide           Landslide   \n",
       "1  (40.517499999999998, -81.430499999999995)    Landslide           Landslide   \n",
       "2             (40.4377, -79.915999999999997)    Landslide           Landslide   \n",
       "3  (45.322600000000001, -73.777100000000004)    Landslide  Riverbank collapse   \n",
       "4  (37.432499999999997, -82.493099999999998)    Landslide           Landslide   \n",
       "\n",
       "  landslide_size   trigger storm_name injuries fatalities  \\\n",
       "0          Small      Rain        NaN      NaN        NaN   \n",
       "1          Small      Rain        NaN      NaN        NaN   \n",
       "2          Small      Rain        NaN      NaN        NaN   \n",
       "3          Small      Rain        NaN      NaN        NaN   \n",
       "4          Small  Downpour        NaN      NaN        0.0   \n",
       "\n",
       "                  source_name  \\\n",
       "0                  NBC 4 news   \n",
       "1              Canton Rep.com   \n",
       "2  The Pittsburgh Channel.com   \n",
       "3                   Le Soleil   \n",
       "4      Matthew Crawford (KGS)   \n",
       "\n",
       "                                         source_link  \n",
       "0      http://www.nbc4.com/news/11186871/detail.html  \n",
       "1  http://www.cantonrep.com/index.php?ID=345054&C...  \n",
       "2  https://web.archive.org/web/20080423132842/htt...  \n",
       "3  http://www.hebdos.net/lsc/edition162007/articl...  \n",
       "4                                                NaN  \n",
       "\n",
       "[5 rows x 23 columns]"
      ]
     },
     "execution_count": 3,
     "metadata": {},
     "output_type": "execute_result"
    }
   ],
   "source": [
    "landslides.head()"
   ]
  },
  {
   "cell_type": "markdown",
   "id": "aabdc915",
   "metadata": {
    "papermill": {
     "duration": 0.004904,
     "end_time": "2023-04-20T18:08:49.988972",
     "exception": false,
     "start_time": "2023-04-20T18:08:49.984068",
     "status": "completed"
    },
    "tags": []
   },
   "source": [
    "We'll be working with the \"date\" column from the `landslides` dataframe. Let's make sure it actually looks like it contains dates."
   ]
  },
  {
   "cell_type": "code",
   "execution_count": 4,
   "id": "873eedcd",
   "metadata": {
    "execution": {
     "iopub.execute_input": "2023-04-20T18:08:50.001935Z",
     "iopub.status.busy": "2023-04-20T18:08:50.001189Z",
     "iopub.status.idle": "2023-04-20T18:08:50.011863Z",
     "shell.execute_reply": "2023-04-20T18:08:50.010438Z"
    },
    "papermill": {
     "duration": 0.020301,
     "end_time": "2023-04-20T18:08:50.014593",
     "exception": false,
     "start_time": "2023-04-20T18:08:49.994292",
     "status": "completed"
    },
    "tags": []
   },
   "outputs": [
    {
     "name": "stdout",
     "output_type": "stream",
     "text": [
      "0     3/2/07\n",
      "1    3/22/07\n",
      "2     4/6/07\n",
      "3    4/14/07\n",
      "4    4/15/07\n",
      "Name: date, dtype: object\n"
     ]
    }
   ],
   "source": [
    "# print the first few rows of the date column\n",
    "print(landslides['date'].head())"
   ]
  },
  {
   "cell_type": "markdown",
   "id": "352b4a8a",
   "metadata": {
    "papermill": {
     "duration": 0.005067,
     "end_time": "2023-04-20T18:08:50.025154",
     "exception": false,
     "start_time": "2023-04-20T18:08:50.020087",
     "status": "completed"
    },
    "tags": []
   },
   "source": [
    "Yep, those are dates! But just because I, a human, can tell that these are dates doesn't mean that Python knows that they're dates. Notice that at the bottom of the output of `head()`, you can see that it says that the data type of this  column is \"object\". \n",
    "\n",
    "> Pandas uses the \"object\" dtype for storing various types of data types, but most often when you see a column with the dtype \"object\" it will have strings in it. \n",
    "\n",
    "If you check the pandas dtype documentation [here](http://pandas.pydata.org/pandas-docs/stable/basics.html#dtypes), you'll notice that there's also a specific `datetime64` dtypes. Because the dtype of our column is `object` rather than `datetime64`, we can tell that Python doesn't know that this column contains dates.\n",
    "\n",
    "We can also look at just the dtype of a column without printing the first few rows:"
   ]
  },
  {
   "cell_type": "code",
   "execution_count": 4,
   "id": "b14857bc",
   "metadata": {
    "execution": {
     "iopub.execute_input": "2023-04-20T18:08:50.038277Z",
     "iopub.status.busy": "2023-04-20T18:08:50.037480Z",
     "iopub.status.idle": "2023-04-20T18:08:50.045120Z",
     "shell.execute_reply": "2023-04-20T18:08:50.043769Z"
    },
    "papermill": {
     "duration": 0.017027,
     "end_time": "2023-04-20T18:08:50.047534",
     "exception": false,
     "start_time": "2023-04-20T18:08:50.030507",
     "status": "completed"
    },
    "tags": []
   },
   "outputs": [
    {
     "data": {
      "text/plain": [
       "dtype('O')"
      ]
     },
     "execution_count": 4,
     "metadata": {},
     "output_type": "execute_result"
    }
   ],
   "source": [
    "# check the data type of our date column\n",
    "landslides['date'].dtype"
   ]
  },
  {
   "cell_type": "markdown",
   "id": "d8f41db8",
   "metadata": {
    "papermill": {
     "duration": 0.005243,
     "end_time": "2023-04-20T18:08:50.058202",
     "exception": false,
     "start_time": "2023-04-20T18:08:50.052959",
     "status": "completed"
    },
    "tags": []
   },
   "source": [
    "You may have to check the [numpy documentation](https://docs.scipy.org/doc/numpy-1.12.0/reference/generated/numpy.dtype.kind.html#numpy.dtype.kind) to match the letter code to the dtype of the object. \"O\" is the code for \"object\", so we can see that these two methods give us the same information."
   ]
  },
  {
   "cell_type": "markdown",
   "id": "62f6d267",
   "metadata": {
    "papermill": {
     "duration": 0.005204,
     "end_time": "2023-04-20T18:08:50.069405",
     "exception": false,
     "start_time": "2023-04-20T18:08:50.064201",
     "status": "completed"
    },
    "tags": []
   },
   "source": [
    "# Convert our date columns to datetime\n",
    "\n",
    "Now that we know that our date column isn't being recognized as a date, it's time to convert it so that it *is* recognized as a date. This is called \"parsing dates\" because we're taking in a string and identifying its component parts.\n",
    "\n",
    "We can determine what the format of our dates are with a guide called [\"strftime directive\", which you can find more information on at this link](http://strftime.org/). The basic idea is that you need to point out which parts of the date are where and what punctuation is between them. There are [lots of possible parts of a date](http://strftime.org/), but the most common are `%d` for day, `%m` for month, `%y` for a two-digit year and `%Y` for a four digit year.\n",
    "\n",
    "Some examples:\n",
    "\n",
    " * 1/17/07 has the format \"%m/%d/%y\"\n",
    " * 17-1-2007 has the format \"%d-%m-%Y\"\n",
    " \n",
    "Looking back up at the head of the \"date\" column in the landslides dataset, we can see that it's in the format \"month/day/two-digit year\", so we can use the same syntax as the first example to parse in our dates: "
   ]
  },
  {
   "cell_type": "code",
   "execution_count": 6,
   "id": "9941bbdd",
   "metadata": {
    "execution": {
     "iopub.execute_input": "2023-04-20T18:08:50.083862Z",
     "iopub.status.busy": "2023-04-20T18:08:50.082789Z",
     "iopub.status.idle": "2023-04-20T18:08:50.097598Z",
     "shell.execute_reply": "2023-04-20T18:08:50.095970Z"
    },
    "papermill": {
     "duration": 0.025863,
     "end_time": "2023-04-20T18:08:50.100709",
     "exception": false,
     "start_time": "2023-04-20T18:08:50.074846",
     "status": "completed"
    },
    "scrolled": false,
    "tags": []
   },
   "outputs": [],
   "source": [
    "# create a new column, date_parsed, with the parsed dates\n",
    "landslides['date_parsed'] = pd.to_datetime(landslides['date'], format=\"%m/%d/%y\")"
   ]
  },
  {
   "cell_type": "markdown",
   "id": "a02d02ef",
   "metadata": {
    "papermill": {
     "duration": 0.005351,
     "end_time": "2023-04-20T18:08:50.111884",
     "exception": false,
     "start_time": "2023-04-20T18:08:50.106533",
     "status": "completed"
    },
    "tags": []
   },
   "source": [
    "Now when I check the first few rows of the new column, I can see that the dtype is `datetime64`. I can also see that my dates have been slightly rearranged so that they fit the default order datetime objects (year-month-day)."
   ]
  },
  {
   "cell_type": "code",
   "execution_count": 7,
   "id": "45dbb9ec",
   "metadata": {
    "execution": {
     "iopub.execute_input": "2023-04-20T18:08:50.125534Z",
     "iopub.status.busy": "2023-04-20T18:08:50.125028Z",
     "iopub.status.idle": "2023-04-20T18:08:50.133450Z",
     "shell.execute_reply": "2023-04-20T18:08:50.132300Z"
    },
    "papermill": {
     "duration": 0.018266,
     "end_time": "2023-04-20T18:08:50.135733",
     "exception": false,
     "start_time": "2023-04-20T18:08:50.117467",
     "status": "completed"
    },
    "tags": []
   },
   "outputs": [
    {
     "data": {
      "text/plain": [
       "0   2007-03-02\n",
       "1   2007-03-22\n",
       "2   2007-04-06\n",
       "3   2007-04-14\n",
       "4   2007-04-15\n",
       "Name: date_parsed, dtype: datetime64[ns]"
      ]
     },
     "execution_count": 7,
     "metadata": {},
     "output_type": "execute_result"
    }
   ],
   "source": [
    "# print the first few rows\n",
    "landslides['date_parsed'].head()"
   ]
  },
  {
   "cell_type": "markdown",
   "id": "e2b5d5e4",
   "metadata": {
    "papermill": {
     "duration": 0.005343,
     "end_time": "2023-04-20T18:08:50.146951",
     "exception": false,
     "start_time": "2023-04-20T18:08:50.141608",
     "status": "completed"
    },
    "tags": []
   },
   "source": [
    "Now that our dates are parsed correctly, we can interact with them in useful ways.\n",
    "\n",
    "___\n",
    "* **What if I run into an error with multiple date formats?** While we're specifying the date format here, sometimes you'll run into an error when there are multiple date formats in a single column. If that happens, you can have pandas try to infer what the right date format should be. You can do that like so:\n",
    "\n",
    "`landslides['date_parsed'] = pd.to_datetime(landslides['Date'], infer_datetime_format=True)`\n",
    "\n",
    "* **Why don't you always use `infer_datetime_format = True?`** There are two big reasons not to always have pandas guess the time format. The first is that pandas won't always been able to figure out the correct date format, especially if someone has gotten creative with data entry. The second is that it's much slower than specifying the exact format of the dates."
   ]
  },
  {
   "cell_type": "markdown",
   "id": "adee41a9",
   "metadata": {
    "papermill": {
     "duration": 0.00534,
     "end_time": "2023-04-20T18:08:50.157934",
     "exception": false,
     "start_time": "2023-04-20T18:08:50.152594",
     "status": "completed"
    },
    "tags": []
   },
   "source": [
    "# Select the day of the month\n",
    "\n",
    "Now that we have a column of parsed dates, we can extract information like the day of the month that a landslide occurred."
   ]
  },
  {
   "cell_type": "code",
   "execution_count": 8,
   "id": "442f585a",
   "metadata": {
    "execution": {
     "iopub.execute_input": "2023-04-20T18:08:50.172019Z",
     "iopub.status.busy": "2023-04-20T18:08:50.170896Z",
     "iopub.status.idle": "2023-04-20T18:08:50.181665Z",
     "shell.execute_reply": "2023-04-20T18:08:50.180399Z"
    },
    "papermill": {
     "duration": 0.020779,
     "end_time": "2023-04-20T18:08:50.184423",
     "exception": false,
     "start_time": "2023-04-20T18:08:50.163644",
     "status": "completed"
    },
    "tags": []
   },
   "outputs": [
    {
     "data": {
      "text/plain": [
       "0     2.0\n",
       "1    22.0\n",
       "2     6.0\n",
       "3    14.0\n",
       "4    15.0\n",
       "Name: date_parsed, dtype: float64"
      ]
     },
     "execution_count": 8,
     "metadata": {},
     "output_type": "execute_result"
    }
   ],
   "source": [
    "# get the day of the month from the date_parsed column\n",
    "day_of_month_landslides = landslides['date_parsed'].dt.day\n",
    "day_of_month_landslides.head()"
   ]
  },
  {
   "cell_type": "markdown",
   "id": "5d564f24",
   "metadata": {
    "papermill": {
     "duration": 0.005525,
     "end_time": "2023-04-20T18:08:50.195906",
     "exception": false,
     "start_time": "2023-04-20T18:08:50.190381",
     "status": "completed"
    },
    "tags": []
   },
   "source": [
    "If we tried to get the same information from the original \"date\" column, we would get an error: `AttributeError: Can only use .dt accessor with datetimelike values`.  This is because `dt.day` doesn't know how to deal with a column with the dtype \"object\". Even though our dataframe has dates in it, we have to parse them before we can interact with them in a useful way."
   ]
  },
  {
   "cell_type": "markdown",
   "id": "e3e1107f",
   "metadata": {
    "papermill": {
     "duration": 0.005585,
     "end_time": "2023-04-20T18:08:50.207330",
     "exception": false,
     "start_time": "2023-04-20T18:08:50.201745",
     "status": "completed"
    },
    "tags": []
   },
   "source": [
    "# Plot the day of the month to check the date parsing\n",
    "\n",
    "One of the biggest dangers in parsing dates is mixing up the months and days. The `to_datetime()` function does have very helpful error messages, but it doesn't hurt to double-check that the days of the month we've extracted make sense. \n",
    "\n",
    "To do this, let's plot a histogram of the days of the month. We expect it to have values between 1 and 31 and, since there's no reason to suppose the landslides are more common on some days of the month than others, a relatively even distribution. (With a dip on 31 because not all months have 31 days.) Let's see if that's the case:"
   ]
  },
  {
   "cell_type": "code",
   "execution_count": 9,
   "id": "47f6672d",
   "metadata": {
    "execution": {
     "iopub.execute_input": "2023-04-20T18:08:50.221481Z",
     "iopub.status.busy": "2023-04-20T18:08:50.221010Z",
     "iopub.status.idle": "2023-04-20T18:08:50.552652Z",
     "shell.execute_reply": "2023-04-20T18:08:50.551123Z"
    },
    "papermill": {
     "duration": 0.342021,
     "end_time": "2023-04-20T18:08:50.555451",
     "exception": false,
     "start_time": "2023-04-20T18:08:50.213430",
     "status": "completed"
    },
    "tags": []
   },
   "outputs": [
    {
     "name": "stderr",
     "output_type": "stream",
     "text": [
      "C:\\Users\\RAMADHAN\\AppData\\Local\\Temp\\ipykernel_22828\\13696829.py:5: UserWarning: \n",
      "\n",
      "`distplot` is a deprecated function and will be removed in seaborn v0.14.0.\n",
      "\n",
      "Please adapt your code to use either `displot` (a figure-level function with\n",
      "similar flexibility) or `histplot` (an axes-level function for histograms).\n",
      "\n",
      "For a guide to updating your code to use the new functions, please see\n",
      "https://gist.github.com/mwaskom/de44147ed2974457ad6372750bbe5751\n",
      "\n",
      "  sns.distplot(day_of_month_landslides, kde=False, bins=31)\n"
     ]
    },
    {
     "data": {
      "text/plain": [
       "<Axes: xlabel='date_parsed'>"
      ]
     },
     "execution_count": 9,
     "metadata": {},
     "output_type": "execute_result"
    },
    {
     "data": {
      "image/png": "[encoded data removed]",
      "text/plain": [
       "<Figure size 640x480 with 1 Axes>"
      ]
     },
     "metadata": {},
     "output_type": "display_data"
    }
   ],
   "source": [
    "# remove na's\n",
    "day_of_month_landslides = day_of_month_landslides.dropna()\n",
    "\n",
    "# plot the day of the month\n",
    "sns.distplot(day_of_month_landslides, kde=False, bins=31)"
   ]
  },
  {
   "cell_type": "markdown",
   "id": "a9cfd365",
   "metadata": {
    "papermill": {
     "duration": 0.006293,
     "end_time": "2023-04-20T18:08:50.568317",
     "exception": false,
     "start_time": "2023-04-20T18:08:50.562024",
     "status": "completed"
    },
    "tags": []
   },
   "source": [
    "Yep, it looks like we did parse our dates correctly & this graph makes good sense to me.\n",
    "\n",
    "# Your turn\n",
    "\n",
    "Write code to [**parse the dates**](https://www.kaggle.com/kernels/fork/10824403) in a dataset of worldwide earthquakes."
   ]
  },
  {
   "cell_type": "markdown",
   "id": "a3fac104",
   "metadata": {
    "papermill": {
     "duration": 0.006324,
     "end_time": "2023-04-20T18:08:50.581330",
     "exception": false,
     "start_time": "2023-04-20T18:08:50.575006",
     "status": "completed"
    },
    "tags": []
   },
   "source": [
    "---\n",
    "\n",
    "\n",
    "\n",
    "\n",
    "*Have questions or comments? Visit the [course discussion forum](https://www.kaggle.com/learn/data-cleaning/discussion) to chat with other learners.*"
   ]
  }
 ],
 "metadata": {
  "kernelspec": {
   "display_name": "Python 3",
   "language": "python",
   "name": "python3"
  },
  "language_info": {
   "codemirror_mode": {
    "name": "ipython",
    "version": 3
   },
   "file_extension": ".py",
   "mimetype": "text/x-python",
   "name": "python",
   "nbconvert_exporter": "python",
   "pygments_lexer": "ipython3",
   "version": "3.10.1"
  },
  "papermill": {
   "default_parameters": {},
   "duration": 13.37887,
   "end_time": "2023-04-20T18:08:51.311447",
   "environment_variables": {},
   "exception": null,
   "input_path": "__notebook__.ipynb",
   "output_path": "__notebook__.ipynb",
   "parameters": {},
   "start_time": "2023-04-20T18:08:37.932577",
   "version": "2.4.0"
  }
 },
 "nbformat": 4,
 "nbformat_minor": 5
}
